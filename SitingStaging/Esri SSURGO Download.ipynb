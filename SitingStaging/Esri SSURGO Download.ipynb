{
 "cells": [
  {
   "cell_type": "code",
   "execution_count": 1,
   "metadata": {},
   "outputs": [],
   "source": [
    "!pip install --quiet arcgis"
   ]
  },
  {
   "cell_type": "code",
   "execution_count": 61,
   "metadata": {},
   "outputs": [],
   "source": [
    "import os\n",
    "from arcgis.gis import GIS;\n",
    "from arcgis.features import FeatureLayer,Table;\n",
    "import arcpy;\n",
    "import urllib;\n",
    "import shutil;\n",
    "import tempfile;"
   ]
  },
  {
   "cell_type": "code",
   "execution_count": 62,
   "metadata": {},
   "outputs": [
    {
     "data": {
      "text/plain": [
       "HUC_8       2206\n",
       "Link        2206\n",
       "OBJECTID    2206\n",
       "dtype: int64"
      ]
     },
     "execution_count": 62,
     "metadata": {},
     "output_type": "execute_result"
    }
   ],
   "source": [
    "ssurgo_url = r\"https://services.arcgis.com/P3ePLMYs2RVChkJx/arcgis/rest/services/DownloaderBasinsv2/FeatureServer/0/query\";\n",
    "ssurgo_lyr = FeatureLayer(ssurgo_url);\n",
    "\n",
    "sdf = None;\n",
    "for i in range (0,3000,1000):\n",
    "\n",
    "    ssurgo_qry = ssurgo_lyr.query(\n",
    "         where              = \"1=1\"\n",
    "        ,out_fields         = 'huc_8,link'\n",
    "        ,order_by_fields    = 'huc_8'\n",
    "        ,return_geometry    = False\n",
    "        ,return_all_records = False\n",
    "        ,result_record_count = 1000\n",
    "        ,result_offset = i\n",
    "    );\n",
    "    \n",
    "    if sdf is None:\n",
    "        sdf = ssurgo_qry.sdf;\n",
    "    else:\n",
    "        sdf = sdf.append(ssurgo_qry.sdf)\n",
    "    \n",
    "sdf.count()"
   ]
  },
  {
   "cell_type": "code",
   "execution_count": 63,
   "metadata": {},
   "outputs": [],
   "source": [
    "src = r\"F:\\SitingStagingCache\\EsriSSURGO\\src\";\n",
    "if not os.path.exists(src):\n",
    "    os.mkdir(src);\n",
    "    \n",
    "trg = r\"F:\\SitingStagingCache\\EsriSSURGO\\trg\";\n",
    "if not os.path.exists(trg):\n",
    "    os.mkdir(trg);\n",
    "    \n",
    "tmp = tempfile.gettempdir();\n"
   ]
  },
  {
   "cell_type": "code",
   "execution_count": 64,
   "metadata": {},
   "outputs": [],
   "source": [
    "for index, row in sdf.iterrows():\n",
    "    fn = row.Link.split('/')[-1];\n",
    "    \n",
    "    if not os.path.exists(src + os.sep + fn):\n",
    "        print(\"Downloading \" + fn);\n",
    "        urllib.request.urlretrieve(row.Link,src + os.sep + fn);\n",
    "        "
   ]
  },
  {
   "cell_type": "code",
   "execution_count": 71,
   "metadata": {},
   "outputs": [],
   "source": [
    "for index, row in sdf.iterrows():\n",
    "    fn = row.Link.split('/')[-1];\n",
    "    dr = os.path.splitext(fn)[0];\n",
    "    \n",
    "    if not os.path.exists(trg + os.sep + dr + '.gdb'):\n",
    "        \n",
    "        if os.path.exists(tmp + os.sep + dr):\n",
    "            shutil.rmtree(tmp + os.sep + dr);\n",
    "            \n",
    "        os.mkdir(tmp + os.sep + dr);\n",
    "        \n",
    "        arcpy.ExtractPackage_management(\n",
    "             in_package = src + os.sep + fn\n",
    "            ,output_folder = tmp + os.sep + dr\n",
    "            ,cache_package = \"NO_CACHE\"\n",
    "        );\n",
    "        \n",
    "        zin = tmp + os.sep + dr + os.sep + 'v105' + os.sep + dr + '.gdb';\n",
    "        \n",
    "        if dr == 'lowerlittlearkansas,oklahoma_11140109':\n",
    "            os.rename(\n",
    "                 tmp + os.sep + dr + os.sep + 'v105' + os.sep + 'lowerlittlearkansas,oklahoma_11140109.gdb'\n",
    "                ,tmp + os.sep + dr + os.sep + 'v105' + os.sep + 'LowerLittleArkansasOklahoma_11140109.gdb'\n",
    "            );\n",
    "            \n",
    "        elif dr == 'Pacific':\n",
    "            os.rename(\n",
    "                 tmp + os.sep + dr + os.sep + 'v105' + os.sep + 'input_mapunits.gdb'\n",
    "                ,tmp + os.sep + dr + os.sep + 'v105' + os.sep + 'Pacific.gdb'\n",
    "            );\n",
    "\n",
    "        shutil.move(\n",
    "             zin\n",
    "            ,trg\n",
    "        );\n",
    "        \n",
    "        shutil.rmtree(tmp + os.sep + dr);\n",
    "        "
   ]
  },
  {
   "cell_type": "code",
   "execution_count": null,
   "metadata": {},
   "outputs": [],
   "source": []
  }
 ],
 "metadata": {
  "kernelspec": {
   "display_name": "Python 3",
   "language": "python",
   "name": "python3"
  },
  "language_info": {
   "codemirror_mode": {
    "name": "ipython",
    "version": 3
   },
   "file_extension": ".py",
   "mimetype": "text/x-python",
   "name": "python",
   "nbconvert_exporter": "python",
   "pygments_lexer": "ipython3",
   "version": "3.6.8"
  }
 },
 "nbformat": 4,
 "nbformat_minor": 2
}
