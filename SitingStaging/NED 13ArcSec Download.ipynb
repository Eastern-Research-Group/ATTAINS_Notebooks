{
 "cells": [
  {
   "cell_type": "code",
   "execution_count": 2,
   "metadata": {},
   "outputs": [],
   "source": [
    "!pip install --quiet arcgis"
   ]
  },
  {
   "cell_type": "code",
   "execution_count": 3,
   "metadata": {},
   "outputs": [],
   "source": [
    "import os\n",
    "from arcgis.gis import GIS;\n",
    "import requests;\n",
    "import arcpy;\n",
    "import shutil;\n",
    "import urllib;\n",
    "import zipfile;"
   ]
  },
  {
   "cell_type": "code",
   "execution_count": 6,
   "metadata": {},
   "outputs": [
    {
     "data": {
      "text/plain": [
       "'1376 1363'"
      ]
     },
     "execution_count": 6,
     "metadata": {},
     "output_type": "execute_result"
    }
   ],
   "source": [
    "ned_lst = r\"https://viewer.nationalmap.gov/tnmaccess/api/products\";\n",
    "\n",
    "response = requests.get(\n",
    "     ned_lst\n",
    "    ,params={\n",
    "         'bbox':'-180,-17,-35,72'\n",
    "        ,'datasets': 'National Elevation Dataset (NED) 1/3 arc-second'\n",
    "        ,'prodFormats': 'IMG'\n",
    "        ,'prodExtents': '1 x 1 degree'\n",
    "    }\n",
    ");\n",
    "resp_json = response.json();\n",
    "\n",
    "ary = [];\n",
    "for item in resp_json['items']:\n",
    "    \n",
    "    if item['downloadURL'][:26] == 'ftp://rockyftp.cr.usgs.gov':\n",
    "        continue;\n",
    "    \n",
    "    ary.append(item);\n",
    "\n",
    "str(resp_json['total']) + ' ' + str(len(ary))\n"
   ]
  },
  {
   "cell_type": "code",
   "execution_count": 7,
   "metadata": {},
   "outputs": [],
   "source": [
    "src = r\"F:\\USGS\\NED13\\src\";\n",
    "if not os.path.exists(src):\n",
    "    os.makedirs(src);\n",
    "    \n",
    "trg = r\"F:\\USGS\\NED13\\trg\";\n",
    "if not os.path.exists(trg):\n",
    "    os.makedirs(trg);\n",
    "    "
   ]
  },
  {
   "cell_type": "code",
   "execution_count": 8,
   "metadata": {},
   "outputs": [
    {
     "data": {
      "text/plain": [
       "'0 files downloaded'"
      ]
     },
     "execution_count": 8,
     "metadata": {},
     "output_type": "execute_result"
    }
   ],
   "source": [
    "cnt = 0;\n",
    "for item in ary:\n",
    "    fn = item['downloadURL'].split('/')[-1];\n",
    "    \n",
    "    if not os.path.exists(src + os.sep + fn):\n",
    "        \n",
    "        #print(\"Downloading \" + fn);\n",
    "        urllib.request.urlretrieve(\n",
    "             item['downloadURL']\n",
    "            ,src + os.sep + fn\n",
    "        );\n",
    "        cnt = cnt + 1;\n",
    "        \n",
    "str(cnt) + \" files downloaded\""
   ]
  },
  {
   "cell_type": "code",
   "execution_count": 10,
   "metadata": {},
   "outputs": [
    {
     "data": {
      "text/plain": [
       "'0 files unzipped'"
      ]
     },
     "execution_count": 10,
     "metadata": {},
     "output_type": "execute_result"
    }
   ],
   "source": [
    "cnt = 0;\n",
    "for item in ary:\n",
    "    fn = item['downloadURL'].split('/')[-1];\n",
    "    dr = os.path.splitext(fn)[0];\n",
    "    \n",
    "    if  os.path.exists(src + os.sep + fn)        \\\n",
    "    and not os.path.exists(trg + os.sep + dr):\n",
    "        \n",
    "        os.mkdir(trg + os.sep + dr);\n",
    "        \n",
    "        print(\"Unzipping \" + fn);\n",
    "        with zipfile.ZipFile(src + os.sep + fn,'r') as zip_ref:\n",
    "            zip_ref.extractall(trg + os.sep + dr);\n",
    "        \n",
    "        if os.path.exists(trg + os.sep + dr + os.sep + dr):\n",
    "            os.rename(\n",
    "                 trg + os.sep + dr\n",
    "                ,trg + os.sep + dr + 'X'\n",
    "            );\n",
    "            \n",
    "            shutil.move(\n",
    "                 trg + os.sep + dr + 'X' + os.sep + dr\n",
    "                ,trg + os.sep + dr\n",
    "            );\n",
    "            \n",
    "            shutil.rmtree(trg + os.sep + dr + 'X');\n",
    "        \n",
    "        cnt = cnt + 1;\n",
    "        \n",
    "str(cnt) + \" files unzipped\"  "
   ]
  },
  {
   "cell_type": "code",
   "execution_count": 12,
   "metadata": {},
   "outputs": [
    {
     "data": {
      "text/plain": [
       "'files are good'"
      ]
     },
     "execution_count": 12,
     "metadata": {},
     "output_type": "execute_result"
    }
   ],
   "source": [
    "cnt = 0;\n",
    "for item in ary:\n",
    "    fn = item['downloadURL'].split('/')[-1];\n",
    "    dr = os.path.splitext(fn)[0];\n",
    "    \n",
    "    if len(dr) == 7:\n",
    "        img = 'img' + dr + '_13.img';\n",
    "    else:\n",
    "        img = dr + '.img';\n",
    "    \n",
    "    props = arcpy.GetRasterProperties_management(\n",
    "         in_raster     = trg + os.sep + dr + os.sep + img\n",
    "        ,property_type = 'VALUETYPE'\n",
    "    );\n",
    "    \n",
    "    vt = props.getOutput(0);\n",
    "    if vt != '9':\n",
    "        raise Exception(img + ' ' + vt);\n",
    "\n",
    "'files are good'"
   ]
  },
  {
   "cell_type": "code",
   "execution_count": null,
   "metadata": {},
   "outputs": [],
   "source": []
  }
 ],
 "metadata": {
  "kernelspec": {
   "display_name": "Python 3",
   "language": "python",
   "name": "python3"
  },
  "language_info": {
   "codemirror_mode": {
    "name": "ipython",
    "version": 3
   },
   "file_extension": ".py",
   "mimetype": "text/x-python",
   "name": "python",
   "nbconvert_exporter": "python",
   "pygments_lexer": "ipython3",
   "version": "3.6.9"
  }
 },
 "nbformat": 4,
 "nbformat_minor": 2
}
