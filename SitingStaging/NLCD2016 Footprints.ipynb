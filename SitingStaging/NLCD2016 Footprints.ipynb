{
 "cells": [
  {
   "cell_type": "code",
   "execution_count": 2,
   "metadata": {},
   "outputs": [],
   "source": [
    "!pip install --quiet arcgis"
   ]
  },
  {
   "cell_type": "code",
   "execution_count": 12,
   "metadata": {},
   "outputs": [],
   "source": [
    "import os\n",
    "from arcgis.gis import GIS;\n",
    "from arcgis.mapping import WebMap;\n",
    "from arcgis.features import SpatialDataFrame\n",
    "import pandas as pd;\n",
    "import arcpy;\n"
   ]
  },
  {
   "cell_type": "code",
   "execution_count": 13,
   "metadata": {},
   "outputs": [
    {
     "data": {
      "text/plain": [
       "1"
      ]
     },
     "execution_count": 13,
     "metadata": {},
     "output_type": "execute_result"
    }
   ],
   "source": [
    "fp_path  = r\"F:\\SitingStagingCache\";\n",
    "fp_fgdb  = r\"footprint.gdb\";\n",
    "fp_full  = fp_path + os.sep + fp_fgdb;\n",
    "fp_layer = \"NLCD2016\";\n",
    "fp_trg   = fp_path + os.sep + \"NLCD2016\" + os.sep + \"trg\";\n",
    "\n",
    "resources = [f.name for f in os.scandir(fp_trg) if not f.is_dir() and f.name[-4:] == '.img'];\n",
    "\n",
    "len(resources)"
   ]
  },
  {
   "cell_type": "code",
   "execution_count": 14,
   "metadata": {},
   "outputs": [],
   "source": [
    "if not os.path.exists(fp_full):\n",
    "    arcpy.CreateFileGDB_management(fp_path,fp_fgdb);\n",
    "    \n",
    "if arcpy.Exists(fp_full + os.sep + fp_layer):\n",
    "    arcpy.Delete_management(fp_full + os.sep + fp_layer);\n",
    "    \n",
    "arcpy.CreateFeatureclass_management(\n",
    "     out_path          = fp_full\n",
    "    ,out_name          = fp_layer\n",
    "    ,geometry_type     = \"POLYGON\"\n",
    "    ,has_m             = \"DISABLED\"\n",
    "    ,has_z             = \"DISABLED\"\n",
    "    ,spatial_reference = arcpy.SpatialReference(4269)\n",
    "    ,config_keyword    = None\n",
    ");\n",
    "\n",
    "arcpy.env.workspace = fp_full;\n",
    "arcpy.management.AddFields(\n",
    "     fp_layer\n",
    "    ,[\n",
    "         ['resource_name' ,'TEXT' ,'Resource_Name'  ,255, None,'']\n",
    "        ,['resource_path' ,'TEXT' ,'Resource_Path'  ,255, None,'']\n",
    "     ]\n",
    ");\n"
   ]
  },
  {
   "cell_type": "code",
   "execution_count": 15,
   "metadata": {},
   "outputs": [
    {
     "data": {
      "text/plain": [
       "'footprint generated'"
      ]
     },
     "execution_count": 15,
     "metadata": {},
     "output_type": "execute_result"
    }
   ],
   "source": [
    "cursor = arcpy.da.InsertCursor(\n",
    "     fp_full + os.sep + fp_layer\n",
    "    ,[\"resource_name\",\"resource_path\",\"SHAPE@\"]\n",
    ");\n",
    "\n",
    "for item in resources:\n",
    "        \n",
    "    raster = fp_trg + os.sep + item;\n",
    "    \n",
    "    ar = arcpy.Raster(raster);\n",
    "    ll = getattr(ar.extent,\"lowerLeft\");\n",
    "    lr = getattr(ar.extent,\"lowerRight\");\n",
    "    ur = getattr(ar.extent,\"upperRight\");\n",
    "    ul = getattr(ar.extent,\"upperLeft\");\n",
    "    \n",
    "    rg = arcpy.Array([\n",
    "         arcpy.Point(ul.X,ul.Y)\n",
    "        ,arcpy.Point(ll.X,ll.Y)\n",
    "        ,arcpy.Point(lr.X,lr.Y)\n",
    "        ,arcpy.Point(ur.X,ur.Y)\n",
    "        ,arcpy.Point(ul.X,ul.Y)\n",
    "    ]);\n",
    "    \n",
    "    fp = arcpy.Polygon(rg,ar.spatialReference);\n",
    "    \n",
    "    fp = fp.densify(\"DISTANCE\",50,0);\n",
    "    \n",
    "    cursor.insertRow([item,raster,fp]);\n",
    "\n",
    "if cursor:\n",
    "    del cursor;\n",
    "    \n",
    "'footprint generated'"
   ]
  },
  {
   "cell_type": "code",
   "execution_count": 16,
   "metadata": {},
   "outputs": [
    {
     "data": {
      "application/vnd.jupyter.widget-view+json": {
       "model_id": "361ae22184cd4cb48996e89910fb6f02",
       "version_major": 2,
       "version_minor": 0
      },
      "text/plain": [
       "MapView(layout=Layout(height='400px', width='100%'))"
      ]
     },
     "metadata": {},
     "output_type": "display_data"
    },
    {
     "data": {
      "text/html": [
       "<div class=\"map-static-img-preview-650360c5-742d-4e1c-a6d4-15666da9d0ca\"><img src=\"\"></img></div>"
      ],
      "text/plain": [
       "<IPython.core.display.HTML object>"
      ]
     },
     "metadata": {},
     "output_type": "display_data"
    }
   ],
   "source": [
    "gis = GIS();\n",
    "sdf = pd.DataFrame.spatial.from_featureclass(fp_full + os.sep + fp_layer);\n",
    "\n",
    "wmap = gis.map(\"North America\");\n",
    "sdf.spatial.plot(\n",
    "     kind = 'map'\n",
    "    ,map_widget = wmap\n",
    "    ,symbol_type='simple'\n",
    "    ,colors = 'Blues_r'\n",
    "    ,outline_color = 'Dark2_r'\n",
    "    ,line_width = 0.5\n",
    ");\n",
    "    \n",
    "wmap"
   ]
  },
  {
   "cell_type": "code",
   "execution_count": null,
   "metadata": {},
   "outputs": [],
   "source": []
  }
 ],
 "metadata": {
  "kernelspec": {
   "display_name": "Python 3",
   "language": "python",
   "name": "python3"
  },
  "language_info": {
   "codemirror_mode": {
    "name": "ipython",
    "version": 3
   },
   "file_extension": ".py",
   "mimetype": "text/x-python",
   "name": "python",
   "nbconvert_exporter": "python",
   "pygments_lexer": "ipython3",
   "version": "3.6.9"
  }
 },
 "nbformat": 4,
 "nbformat_minor": 2
}
