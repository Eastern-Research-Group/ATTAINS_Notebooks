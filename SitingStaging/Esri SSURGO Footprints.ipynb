{
 "cells": [
  {
   "cell_type": "code",
   "execution_count": 1,
   "metadata": {},
   "outputs": [],
   "source": [
    "!pip install --quiet arcgis"
   ]
  },
  {
   "cell_type": "code",
   "execution_count": 2,
   "metadata": {},
   "outputs": [],
   "source": [
    "import os;\n",
    "from arcgis.gis import GIS;\n",
    "from arcgis.mapping import WebMap;\n",
    "from arcgis.features import FeatureLayer,Table;\n",
    "from arcgis.features import SpatialDataFrame;\n",
    "import pandas as pd;\n",
    "import arcpy;\n"
   ]
  },
  {
   "cell_type": "code",
   "execution_count": 3,
   "metadata": {},
   "outputs": [
    {
     "data": {
      "text/plain": [
       "2204"
      ]
     },
     "execution_count": 3,
     "metadata": {},
     "output_type": "execute_result"
    }
   ],
   "source": [
    "fp_path  = r\"F:\\SitingStagingCache\";\n",
    "fp_fgdb  = r\"footprint.gdb\";\n",
    "fp_full  = fp_path + os.sep + fp_fgdb;\n",
    "fp_layer = \"EsriSSURGO\";\n",
    "fp_trg   = fp_path + os.sep + \"EsriSSURGO\" + os.sep + \"trg\";\n",
    "\n",
    "resources = [f.name for f in os.scandir(fp_trg) if f.is_dir()];\n",
    "\n",
    "len(resources)"
   ]
  },
  {
   "cell_type": "code",
   "execution_count": 40,
   "metadata": {},
   "outputs": [
    {
     "data": {
      "text/plain": [
       "'ready'"
      ]
     },
     "execution_count": 40,
     "metadata": {},
     "output_type": "execute_result"
    }
   ],
   "source": [
    "if not os.path.exists(fp_full):\n",
    "    arcpy.CreateFileGDB_management(fp_path,fp_fgdb);\n",
    "    \n",
    "if arcpy.Exists(fp_full + os.sep + fp_layer):\n",
    "    arcpy.Delete_management(fp_full + os.sep + fp_layer);\n",
    "    \n",
    "arcpy.CreateFeatureclass_management(\n",
    "     out_path          = fp_full\n",
    "    ,out_name          = fp_layer\n",
    "    ,geometry_type     = \"POLYGON\"\n",
    "    ,has_m             = \"DISABLED\"\n",
    "    ,has_z             = \"DISABLED\"\n",
    "    ,spatial_reference = arcpy.SpatialReference(4269)\n",
    "    ,config_keyword    = None\n",
    ");\n",
    "\n",
    "arcpy.env.workspace = fp_full;\n",
    "arcpy.management.AddFields(\n",
    "     fp_layer\n",
    "    ,[\n",
    "         ['resource_name' ,'TEXT' ,'Resource_Name'  ,255, None,'']\n",
    "        ,['resource_path' ,'TEXT' ,'Resource_Path'  ,255, None,'']\n",
    "     ]\n",
    ");\n",
    "\n",
    "'ready'"
   ]
  },
  {
   "cell_type": "code",
   "execution_count": 41,
   "metadata": {},
   "outputs": [
    {
     "data": {
      "text/plain": [
       "'footprints generated'"
      ]
     },
     "execution_count": 41,
     "metadata": {},
     "output_type": "execute_result"
    }
   ],
   "source": [
    "huc8_url = r\"https://watersgeo.epa.gov/arcgis/rest/services/Support/HydrologicUnits/MapServer/14\";\n",
    "huc8_lyr = FeatureLayer(huc8_url);\n",
    "\n",
    "cursor = arcpy.da.InsertCursor(\n",
    "     fp_full + os.sep + fp_layer\n",
    "    ,[\"resource_name\",\"resource_path\",\"SHAPE@\"]\n",
    ");\n",
    "\n",
    "for item in resources:\n",
    "    \n",
    "    if item == \"Pacific.gdb\":\n",
    "    \n",
    "        huc8_qry = huc8_lyr.query(\n",
    "             where              = \"huc8 IN ('22030000','22010000','22020000')\"\n",
    "            ,out_fields         = \"huc8\"\n",
    "            ,return_count_only  = False\n",
    "        );\n",
    "        \n",
    "        sdf = huc8_qry.sdf;\n",
    "        \n",
    "        for index, row in sdf.iterrows():\n",
    "            \n",
    "            if row.huc8 == \"22030000\":\n",
    "                pacname = \"AmericanSamoa\";\n",
    "            elif row.huc8 == \"22010000\":\n",
    "                pacname = \"Guam\";\n",
    "            elif row.huc8 == \"22020000\":\n",
    "                pacname = \"NorthernMarianasIslands\";\n",
    "\n",
    "            cursor.insertRow([\n",
    "                 pacname + '_' + row.huc8\n",
    "                ,fp_trg + os.sep + item + os.sep + pacname + '_MUPOLYS'\n",
    "                ,row.SHAPE.as_arcpy\n",
    "            ]);\n",
    "        \n",
    "    else:\n",
    "        basin = fp_trg + os.sep + item + os.sep + \"Subbasin\";\n",
    "\n",
    "        poly = arcpy.da.SearchCursor(\n",
    "             in_table    = basin\n",
    "            ,field_names = [\"SHAPE@\"]\n",
    "        );\n",
    "\n",
    "        for row in poly:\n",
    "            shp = row[0];\n",
    "\n",
    "        cursor.insertRow([\n",
    "             item[:-4]\n",
    "            ,fp_trg + os.sep + item + os.sep + \"MapUnits\"\n",
    "            ,shp\n",
    "        ]);\n",
    "\n",
    "if cursor:\n",
    "    del cursor;\n",
    "    \n",
    "'footprints generated'"
   ]
  },
  {
   "cell_type": "code",
   "execution_count": null,
   "metadata": {},
   "outputs": [],
   "source": []
  }
 ],
 "metadata": {
  "kernelspec": {
   "display_name": "Python 3",
   "language": "python",
   "name": "python3"
  },
  "language_info": {
   "codemirror_mode": {
    "name": "ipython",
    "version": 3
   },
   "file_extension": ".py",
   "mimetype": "text/x-python",
   "name": "python",
   "nbconvert_exporter": "python",
   "pygments_lexer": "ipython3",
   "version": "3.6.9"
  }
 },
 "nbformat": 4,
 "nbformat_minor": 2
}
