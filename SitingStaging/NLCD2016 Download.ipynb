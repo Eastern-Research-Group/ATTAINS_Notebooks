{
 "cells": [
  {
   "cell_type": "code",
   "execution_count": 1,
   "metadata": {},
   "outputs": [],
   "source": [
    "!pip install --quiet arcgis"
   ]
  },
  {
   "cell_type": "code",
   "execution_count": 2,
   "metadata": {},
   "outputs": [],
   "source": [
    "import os\n",
    "from arcgis.gis import GIS;\n",
    "import arcpy;\n",
    "import urllib;\n",
    "import zipfile;\n"
   ]
  },
  {
   "cell_type": "code",
   "execution_count": 3,
   "metadata": {},
   "outputs": [],
   "source": [
    "nlcd_url  = r\"https://s3-us-west-2.amazonaws.com/mrlc\"\n",
    "nlcd_file = r\"NLCD_2016_Land_Cover_L48_20190424.zip\";\n"
   ]
  },
  {
   "cell_type": "code",
   "execution_count": 4,
   "metadata": {},
   "outputs": [],
   "source": [
    "src = r\"F:\\SitingStagingCache\\NLCD2016\\src\";\n",
    "if not os.path.exists(src):\n",
    "    os.makedirs(src);\n",
    "    \n",
    "trg = r\"F:\\SitingStagingCache\\NLCD2016\\trg\";\n",
    "if not os.path.exists(trg):\n",
    "    os.makedirs(trg);\n"
   ]
  },
  {
   "cell_type": "code",
   "execution_count": 5,
   "metadata": {},
   "outputs": [],
   "source": [
    "if not os.path.exists(src + os.sep + nlcd_file):\n",
    "    urllib.request.urlretrieve(nlcd_url + '/' + nlcd_file,src + os.sep + nlcd_file);\n",
    "    print('Downloaded NLCD2016');\n",
    "    "
   ]
  },
  {
   "cell_type": "code",
   "execution_count": 6,
   "metadata": {},
   "outputs": [],
   "source": [
    "fn,ext = os.path.splitext(nlcd_file);\n",
    "\n",
    "if os.path.exists(src + os.sep + nlcd_file)         \\\n",
    "and not os.path.exists(trg + os.sep + fn + '.img'):\n",
    "    \n",
    "    with zipfile.ZipFile(src + os.sep + nlcd_file,'r') as zip_ref:\n",
    "        zip_ref.extractall(trg);\n",
    "        \n",
    "    print(\"Unzipping NLCD2016\");\n",
    "    "
   ]
  },
  {
   "cell_type": "code",
   "execution_count": 7,
   "metadata": {},
   "outputs": [
    {
     "name": "stdout",
     "output_type": "stream",
     "text": [
      "NLCD2016 downloaded properly\n"
     ]
    }
   ],
   "source": [
    "if os.path.exists(trg + os.sep + fn + '.img'):\n",
    "    \n",
    "    props = arcpy.GetRasterProperties_management(\n",
    "         in_raster     = trg + os.sep + fn + '.img'\n",
    "        ,property_type = 'VALUETYPE'\n",
    "    );\n",
    "    \n",
    "    vt = props.getOutput(0);\n",
    "    \n",
    "if vt != '3':\n",
    "    print('invalid raster');\n",
    "else:\n",
    "    print('NLCD2016 downloaded properly')\n"
   ]
  },
  {
   "cell_type": "code",
   "execution_count": null,
   "metadata": {},
   "outputs": [],
   "source": []
  }
 ],
 "metadata": {
  "kernelspec": {
   "display_name": "Python 3",
   "language": "python",
   "name": "python3"
  },
  "language_info": {
   "codemirror_mode": {
    "name": "ipython",
    "version": 3
   },
   "file_extension": ".py",
   "mimetype": "text/x-python",
   "name": "python",
   "nbconvert_exporter": "python",
   "pygments_lexer": "ipython3",
   "version": "3.6.9"
  }
 },
 "nbformat": 4,
 "nbformat_minor": 2
}
