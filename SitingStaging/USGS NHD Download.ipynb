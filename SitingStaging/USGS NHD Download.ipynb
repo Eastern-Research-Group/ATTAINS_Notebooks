{
 "cells": [
  {
   "cell_type": "code",
   "execution_count": null,
   "metadata": {},
   "outputs": [],
   "source": [
    "!pip install --quiet arcgis"
   ]
  },
  {
   "cell_type": "code",
   "execution_count": 21,
   "metadata": {},
   "outputs": [],
   "source": [
    "import os\n",
    "from arcgis.gis import GIS;\n",
    "from arcgis.features import FeatureLayer,Table;\n",
    "import arcpy;\n",
    "import urllib;\n",
    "import shutil;\n",
    "import tempfile;\n",
    "import zipfile;\n"
   ]
  },
  {
   "cell_type": "code",
   "execution_count": 22,
   "metadata": {},
   "outputs": [],
   "source": [
    "state_url = r\"https://services7.arcgis.com/6o0M9YyJcHjZF5MP/ArcGIS/rest/services/TIGER_Cartographic_Boundary_File_States/FeatureServer/0\";\n",
    "state_lyr = FeatureLayer(state_url);\n",
    "\n",
    "nhd_url   = r\"https://prd-tnm.s3.amazonaws.com/StagedProducts/Hydrography/NHD/National/HighResolution/GDB\"\n",
    "nhd_file  = r\"NATIONAL_NHD_GDB.zip\";\n",
    "nhd_state = r\"https://prd-tnm.s3.amazonaws.com/StagedProducts/Hydrography/NHD/State/HighResolution/GDB\"\n"
   ]
  },
  {
   "cell_type": "code",
   "execution_count": 23,
   "metadata": {},
   "outputs": [],
   "source": [
    "src = r\"F:\\SitingStagingCache\\NHD\\src\";\n",
    "if not os.path.exists(src):\n",
    "    os.makedirs(src);\n",
    "    \n",
    "trg = r\"F:\\SitingStagingCache\\NHD\\trg\";\n",
    "if not os.path.exists(trg):\n",
    "    os.makedirs(trg);\n",
    "    "
   ]
  },
  {
   "cell_type": "code",
   "execution_count": 24,
   "metadata": {},
   "outputs": [],
   "source": [
    "if not os.path.exists(src + os.sep + nhd_file):\n",
    "    urllib.request.urlretrieve(nhd_url + '/' + nhd_file,src + os.sep + nhd_file);\n",
    "    print('Downloaded NHD National File');\n",
    "    "
   ]
  },
  {
   "cell_type": "code",
   "execution_count": 32,
   "metadata": {},
   "outputs": [
    {
     "name": "stdout",
     "output_type": "stream",
     "text": [
      "Downloaded 1 files.\n"
     ]
    }
   ],
   "source": [
    "cnt = 0;\n",
    "\n",
    "state_qry = state_lyr.query(\n",
    "     where              = \"1=1\"\n",
    "    ,out_fields         = 'NAME'\n",
    "    ,return_geometry    = False\n",
    ");\n",
    "\n",
    "sdf = state_qry.sdf;\n",
    "\n",
    "for index, row in sdf.iterrows():\n",
    "    \n",
    "    name = row.NAME.replace(' ','_');\n",
    "    file = 'NHD_H_' + name + '_State_GDB.zip';\n",
    "    \n",
    "    if not os.path.exists(src + os.sep + file):\n",
    "        urllib.request.urlretrieve(\n",
    "             nhd_state + '/' + file\n",
    "            ,src + os.sep + file\n",
    "        );\n",
    "        \n",
    "        cnt = cnt + 1;\n",
    "\n",
    "print('Downloaded ' + str(cnt) + ' files.');\n"
   ]
  },
  {
   "cell_type": "code",
   "execution_count": 33,
   "metadata": {},
   "outputs": [],
   "source": [
    "fn,ext = os.path.splitext(nhd_file);\n",
    "\n",
    "if os.path.exists(src + os.sep + nhd_file)  \\\n",
    "and not os.path.exists(trg + os.sep + fn + '.gdb'):\n",
    "    \n",
    "    with zipfile.ZipFile(src + os.sep + nhd_file,'r') as zip_ref:\n",
    "        zip_ref.extractall(trg);\n",
    "        "
   ]
  },
  {
   "cell_type": "code",
   "execution_count": null,
   "metadata": {},
   "outputs": [
    {
     "name": "stdout",
     "output_type": "stream",
     "text": [
      "F:\\SitingStagingCache\\NHD\\src\\NHD_H_Alaska_State_GDB.zip\n",
      "F:\\SitingStagingCache\\NHD\\src\\NHD_H_Arkansas_State_GDB.zip\n",
      "F:\\SitingStagingCache\\NHD\\src\\NHD_H_Kansas_State_GDB.zip\n",
      "F:\\SitingStagingCache\\NHD\\src\\NHD_H_South_Dakota_State_GDB.zip\n",
      "F:\\SitingStagingCache\\NHD\\src\\NHD_H_Virginia_State_GDB.zip\n",
      "F:\\SitingStagingCache\\NHD\\src\\NHD_H_Iowa_State_GDB.zip\n",
      "F:\\SitingStagingCache\\NHD\\src\\NHD_H_Arizona_State_GDB.zip\n",
      "F:\\SitingStagingCache\\NHD\\src\\NHD_H_Rhode_Island_State_GDB.zip\n",
      "F:\\SitingStagingCache\\NHD\\src\\NHD_H_New_Hampshire_State_GDB.zip\n",
      "F:\\SitingStagingCache\\NHD\\src\\NHD_H_North_Carolina_State_GDB.zip\n",
      "F:\\SitingStagingCache\\NHD\\src\\NHD_H_Delaware_State_GDB.zip\n",
      "F:\\SitingStagingCache\\NHD\\src\\NHD_H_California_State_GDB.zip\n",
      "F:\\SitingStagingCache\\NHD\\src\\NHD_H_Wisconsin_State_GDB.zip\n",
      "F:\\SitingStagingCache\\NHD\\src\\NHD_H_Oregon_State_GDB.zip\n",
      "F:\\SitingStagingCache\\NHD\\src\\NHD_H_Washington_State_GDB.zip\n",
      "F:\\SitingStagingCache\\NHD\\src\\NHD_H_Louisiana_State_GDB.zip\n",
      "F:\\SitingStagingCache\\NHD\\src\\NHD_H_Utah_State_GDB.zip\n",
      "F:\\SitingStagingCache\\NHD\\src\\NHD_H_Ohio_State_GDB.zip\n",
      "F:\\SitingStagingCache\\NHD\\src\\NHD_H_Texas_State_GDB.zip\n",
      "F:\\SitingStagingCache\\NHD\\src\\NHD_H_Tennessee_State_GDB.zip\n",
      "F:\\SitingStagingCache\\NHD\\src\\NHD_H_Commonwealth_of_the_Northern_Mariana_Islands_State_GDB.zip\n",
      "F:\\SitingStagingCache\\NHD\\src\\NHD_H_New_York_State_GDB.zip\n"
     ]
    }
   ],
   "source": [
    "cnt = 0;\n",
    "\n",
    "for index, row in sdf.iterrows():\n",
    "    \n",
    "    name = row.NAME.replace(' ','_');\n",
    "    file = 'NHD_H_' + name + '_State_GDB';\n",
    "    \n",
    "    if os.path.exists(src + os.sep + file + '.zip')  \\\n",
    "    and not os.path.exists(trg + os.sep + file + '.gdb'):\n",
    "\n",
    "        with zipfile.ZipFile(src + os.sep + file + '.zip','r') as zip_ref:\n",
    "            zip_ref.extractall(trg);\n",
    "            \n",
    "        cnt = cnt + 1;\n",
    "        \n",
    "'unzipped ' + str(cnt) + ' files'\n",
    "        "
   ]
  },
  {
   "cell_type": "code",
   "execution_count": null,
   "metadata": {},
   "outputs": [],
   "source": []
  }
 ],
 "metadata": {
  "kernelspec": {
   "display_name": "Python 3",
   "language": "python",
   "name": "python3"
  },
  "language_info": {
   "codemirror_mode": {
    "name": "ipython",
    "version": 3
   },
   "file_extension": ".py",
   "mimetype": "text/x-python",
   "name": "python",
   "nbconvert_exporter": "python",
   "pygments_lexer": "ipython3",
   "version": "3.6.9"
  }
 },
 "nbformat": 4,
 "nbformat_minor": 2
}
