{
 "cells": [
  {
   "cell_type": "markdown",
   "metadata": {},
   "source": [
    "### Tuning Jupyter for Geoprocessing\n",
    "\n",
    "The Jupyter Notebook server included with ArcGIS Pro has several defaults which may not ideal for larger geoprocessing tasks.\n",
    "\n",
    "Changing the Jupyter defaults involves first creating a configuration file.  So first open your start bar and under **ArcGIS** choose **Python Command Prompt** to open a terminal under your ArcGIS Pro Python environment.\n",
    "\n",
    "At the prompt enter\n",
    "\n",
    "    jupyter notebook --generate-config\n",
    "\n",
    "This will both create a configuration file and rewire the Jupyter startup to use that configuration file.  The output from the command will tell you where the file is located but it should end up in C:\\Users\\%USERNAME%\\.jupyter\\jupyter_notebook_config.py\n",
    "\n",
    "This file should be under your local control and not require administrative privileges to edit.\n"
   ]
  },
  {
   "cell_type": "markdown",
   "metadata": {},
   "source": [
    "#### Python Memory Allocation\n",
    "\n",
    "If your notebook is executing geoprocessing tasks the out-of-the-box maximum memory is set to about 500MB.  That is pretty small if your machine has 16 GB of RAM available.  To increase this amount, uncomment and change the following line\n",
    "\n",
    "    c.NotebookApp.max_buffer_size = 12884901888\n",
    "    \n",
    "In this case I am saying that Jupyter may use up to 12 GB of my 16 GB total.  Obviously if you have less RAM, you'd want to set that accordingly.  \n"
   ]
  },
  {
   "cell_type": "markdown",
   "metadata": {},
   "source": [
    "#### Jupyter Output Buffer\n",
    "\n",
    "Jupyter is set to restrict the amount of data the server may spool to the client.  When your server is in Singapore and you reside in Patagonia that makes some reasonable sense.  However, if you are just outputting data locally then this limit can restrict the amount of data you can export to excel or to a file geodatabase, etc.\n",
    "\n",
    "To increase this amount, uncomment and change the following line:\n",
    "\n",
    "    c.NotebookApp.iopub_data_rate_limit = 1.0e10\n",
    "    \n",
    "In this case I am making the limit a big honkin' number as my server is only outputting data to the same machine.  If for some scenario I had other folks connecting to my Jupyter server from Slovakia or such, this would not a proper settting.\n"
   ]
  },
  {
   "cell_type": "code",
   "execution_count": null,
   "metadata": {},
   "outputs": [],
   "source": []
  }
 ],
 "metadata": {
  "kernelspec": {
   "display_name": "Python 3",
   "language": "python",
   "name": "python3"
  },
  "language_info": {
   "codemirror_mode": {
    "name": "ipython",
    "version": 3
   },
   "file_extension": ".py",
   "mimetype": "text/x-python",
   "name": "python",
   "nbconvert_exporter": "python",
   "pygments_lexer": "ipython3",
   "version": "3.6.9"
  }
 },
 "nbformat": 4,
 "nbformat_minor": 2
}
